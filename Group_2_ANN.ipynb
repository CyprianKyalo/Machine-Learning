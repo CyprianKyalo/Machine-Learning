{
  "nbformat": 4,
  "nbformat_minor": 0,
  "metadata": {
    "colab": {
      "name": "Group 2 ANN.ipynb",
      "provenance": [],
      "collapsed_sections": [],
      "authorship_tag": "ABX9TyPOVZczeERbZbI7ayiU0wKt",
      "include_colab_link": true
    },
    "kernelspec": {
      "name": "python3",
      "display_name": "Python 3"
    },
    "language_info": {
      "name": "python"
    }
  },
  "cells": [
    {
      "cell_type": "markdown",
      "metadata": {
        "id": "view-in-github",
        "colab_type": "text"
      },
      "source": [
        "<a href=\"https://colab.research.google.com/github/CyprianKyalo/Machine-Learning/blob/main/Group_2_ANN.ipynb\" target=\"_parent\"><img src=\"https://colab.research.google.com/assets/colab-badge.svg\" alt=\"Open In Colab\"/></a>"
      ]
    },
    {
      "cell_type": "code",
      "execution_count": 271,
      "metadata": {
        "id": "Hu2xCV2BGA1Q"
      },
      "outputs": [],
      "source": [
        "import numpy as np\n",
        "import pandas as pd\n",
        "import math"
      ]
    },
    {
      "cell_type": "code",
      "source": [
        "# Specifying the batch size\n",
        "batch_size = 2"
      ],
      "metadata": {
        "id": "vnIxDIKVGR3L"
      },
      "execution_count": 272,
      "outputs": []
    },
    {
      "cell_type": "code",
      "source": [
        "# Initializing the inputs\n",
        "data = {'x1': [0.52, 0.3, 0.7, 0.23], 'x2': [-0.2, 0.92, 0.12, -0.1], 'y': [0.6, 0.43, -0.89, 0.58]}\n",
        "data"
      ],
      "metadata": {
        "colab": {
          "base_uri": "https://localhost:8080/"
        },
        "id": "7kCh_cO2GV20",
        "outputId": "3a666d3a-f6de-4764-baf2-aa4ab58f5570"
      },
      "execution_count": 273,
      "outputs": [
        {
          "output_type": "execute_result",
          "data": {
            "text/plain": [
              "{'x1': [0.52, 0.3, 0.7, 0.23],\n",
              " 'x2': [-0.2, 0.92, 0.12, -0.1],\n",
              " 'y': [0.6, 0.43, -0.89, 0.58]}"
            ]
          },
          "metadata": {},
          "execution_count": 273
        }
      ]
    },
    {
      "cell_type": "code",
      "source": [
        "# Converting the data into a dataframe for easier visualization\n",
        "data = pd.DataFrame(data)\n",
        "data"
      ],
      "metadata": {
        "colab": {
          "base_uri": "https://localhost:8080/",
          "height": 175
        },
        "id": "I-iXcVjwHD9Q",
        "outputId": "43cf4ef4-e1a7-4bea-a13d-f87cf37dbc53"
      },
      "execution_count": 274,
      "outputs": [
        {
          "output_type": "execute_result",
          "data": {
            "text/plain": [
              "     x1    x2     y\n",
              "0  0.52 -0.20  0.60\n",
              "1  0.30  0.92  0.43\n",
              "2  0.70  0.12 -0.89\n",
              "3  0.23 -0.10  0.58"
            ],
            "text/html": [
              "\n",
              "  <div id=\"df-41467b2a-7d92-4c83-933b-29794fefed9d\">\n",
              "    <div class=\"colab-df-container\">\n",
              "      <div>\n",
              "<style scoped>\n",
              "    .dataframe tbody tr th:only-of-type {\n",
              "        vertical-align: middle;\n",
              "    }\n",
              "\n",
              "    .dataframe tbody tr th {\n",
              "        vertical-align: top;\n",
              "    }\n",
              "\n",
              "    .dataframe thead th {\n",
              "        text-align: right;\n",
              "    }\n",
              "</style>\n",
              "<table border=\"1\" class=\"dataframe\">\n",
              "  <thead>\n",
              "    <tr style=\"text-align: right;\">\n",
              "      <th></th>\n",
              "      <th>x1</th>\n",
              "      <th>x2</th>\n",
              "      <th>y</th>\n",
              "    </tr>\n",
              "  </thead>\n",
              "  <tbody>\n",
              "    <tr>\n",
              "      <th>0</th>\n",
              "      <td>0.52</td>\n",
              "      <td>-0.20</td>\n",
              "      <td>0.60</td>\n",
              "    </tr>\n",
              "    <tr>\n",
              "      <th>1</th>\n",
              "      <td>0.30</td>\n",
              "      <td>0.92</td>\n",
              "      <td>0.43</td>\n",
              "    </tr>\n",
              "    <tr>\n",
              "      <th>2</th>\n",
              "      <td>0.70</td>\n",
              "      <td>0.12</td>\n",
              "      <td>-0.89</td>\n",
              "    </tr>\n",
              "    <tr>\n",
              "      <th>3</th>\n",
              "      <td>0.23</td>\n",
              "      <td>-0.10</td>\n",
              "      <td>0.58</td>\n",
              "    </tr>\n",
              "  </tbody>\n",
              "</table>\n",
              "</div>\n",
              "      <button class=\"colab-df-convert\" onclick=\"convertToInteractive('df-41467b2a-7d92-4c83-933b-29794fefed9d')\"\n",
              "              title=\"Convert this dataframe to an interactive table.\"\n",
              "              style=\"display:none;\">\n",
              "        \n",
              "  <svg xmlns=\"http://www.w3.org/2000/svg\" height=\"24px\"viewBox=\"0 0 24 24\"\n",
              "       width=\"24px\">\n",
              "    <path d=\"M0 0h24v24H0V0z\" fill=\"none\"/>\n",
              "    <path d=\"M18.56 5.44l.94 2.06.94-2.06 2.06-.94-2.06-.94-.94-2.06-.94 2.06-2.06.94zm-11 1L8.5 8.5l.94-2.06 2.06-.94-2.06-.94L8.5 2.5l-.94 2.06-2.06.94zm10 10l.94 2.06.94-2.06 2.06-.94-2.06-.94-.94-2.06-.94 2.06-2.06.94z\"/><path d=\"M17.41 7.96l-1.37-1.37c-.4-.4-.92-.59-1.43-.59-.52 0-1.04.2-1.43.59L10.3 9.45l-7.72 7.72c-.78.78-.78 2.05 0 2.83L4 21.41c.39.39.9.59 1.41.59.51 0 1.02-.2 1.41-.59l7.78-7.78 2.81-2.81c.8-.78.8-2.07 0-2.86zM5.41 20L4 18.59l7.72-7.72 1.47 1.35L5.41 20z\"/>\n",
              "  </svg>\n",
              "      </button>\n",
              "      \n",
              "  <style>\n",
              "    .colab-df-container {\n",
              "      display:flex;\n",
              "      flex-wrap:wrap;\n",
              "      gap: 12px;\n",
              "    }\n",
              "\n",
              "    .colab-df-convert {\n",
              "      background-color: #E8F0FE;\n",
              "      border: none;\n",
              "      border-radius: 50%;\n",
              "      cursor: pointer;\n",
              "      display: none;\n",
              "      fill: #1967D2;\n",
              "      height: 32px;\n",
              "      padding: 0 0 0 0;\n",
              "      width: 32px;\n",
              "    }\n",
              "\n",
              "    .colab-df-convert:hover {\n",
              "      background-color: #E2EBFA;\n",
              "      box-shadow: 0px 1px 2px rgba(60, 64, 67, 0.3), 0px 1px 3px 1px rgba(60, 64, 67, 0.15);\n",
              "      fill: #174EA6;\n",
              "    }\n",
              "\n",
              "    [theme=dark] .colab-df-convert {\n",
              "      background-color: #3B4455;\n",
              "      fill: #D2E3FC;\n",
              "    }\n",
              "\n",
              "    [theme=dark] .colab-df-convert:hover {\n",
              "      background-color: #434B5C;\n",
              "      box-shadow: 0px 1px 3px 1px rgba(0, 0, 0, 0.15);\n",
              "      filter: drop-shadow(0px 1px 2px rgba(0, 0, 0, 0.3));\n",
              "      fill: #FFFFFF;\n",
              "    }\n",
              "  </style>\n",
              "\n",
              "      <script>\n",
              "        const buttonEl =\n",
              "          document.querySelector('#df-41467b2a-7d92-4c83-933b-29794fefed9d button.colab-df-convert');\n",
              "        buttonEl.style.display =\n",
              "          google.colab.kernel.accessAllowed ? 'block' : 'none';\n",
              "\n",
              "        async function convertToInteractive(key) {\n",
              "          const element = document.querySelector('#df-41467b2a-7d92-4c83-933b-29794fefed9d');\n",
              "          const dataTable =\n",
              "            await google.colab.kernel.invokeFunction('convertToInteractive',\n",
              "                                                     [key], {});\n",
              "          if (!dataTable) return;\n",
              "\n",
              "          const docLinkHtml = 'Like what you see? Visit the ' +\n",
              "            '<a target=\"_blank\" href=https://colab.research.google.com/notebooks/data_table.ipynb>data table notebook</a>'\n",
              "            + ' to learn more about interactive tables.';\n",
              "          element.innerHTML = '';\n",
              "          dataTable['output_type'] = 'display_data';\n",
              "          await google.colab.output.renderOutput(dataTable, element);\n",
              "          const docLink = document.createElement('div');\n",
              "          docLink.innerHTML = docLinkHtml;\n",
              "          element.appendChild(docLink);\n",
              "        }\n",
              "      </script>\n",
              "    </div>\n",
              "  </div>\n",
              "  "
            ]
          },
          "metadata": {},
          "execution_count": 274
        }
      ]
    },
    {
      "cell_type": "markdown",
      "source": [
        "# Creating a class to handle all the computations"
      ],
      "metadata": {
        "id": "1nLfPVzki1Uw"
      }
    },
    {
      "cell_type": "code",
      "source": [
        "class ANN:\n",
        "  def __init__(self, data, batch_size = data.shape[0]):\n",
        "    self.data = data\n",
        "    self.batch_size = batch_size\n",
        "    self.weight_1 = np.array([[0.3, 0.5, 0.9], [0.7, 0.8, 0.3]])\n",
        "    self.weight_2 = np.array([[0.12, 0.13, 0.1, 0.3], [0.89, 0.1, 0.2, 0.6], [0.7, 0.6, 0.43, 0.26]])\n",
        "    self.weight_3 = np.array([0.7, 0.1, 0.4, 0.9])\n",
        "\n",
        "  # Function to compute tanh\n",
        "  def tanh(self):\n",
        "    return (math.exp(self.x) - math.exp(-self.x)) / (math.exp(self.x) + math.exp(-self.x))\n",
        "\n",
        "  # Function to compute the activation of a layer\n",
        "  def activate(self, layer):\n",
        "    new_arr = []\n",
        "    for x in range(layer.shape[0]):\n",
        "      inside_arr = []\n",
        "      for y in layer[x]:\n",
        "        inside_arr.append(tanh(y))\n",
        "      new_arr.append(inside_arr)\n",
        "\n",
        "    return np.array(new_arr)\n",
        "  \n",
        "  # Function to compute activated output of the first layer\n",
        "  def first_layer(self):\n",
        "    return self.activate(np.dot((self.data.iloc[:self.batch_size, :self.batch_size]).to_numpy(), self.weight_1))\n",
        "\n",
        "  # Function to compute activated output of the second layer\n",
        "  def second_layer(self):\n",
        "    return self.activate(np.dot(self.first_layer(), self.weight_2))\n",
        "\n",
        "  # Function to compute activated output of the last layer\n",
        "  def final_layer(self):\n",
        "    return np.dot(self.second_layer(), self.weight_3)\n",
        "\n",
        "  # Function to calculate Mean Squared Error\n",
        "  def MSE(self):\n",
        "    errors = []\n",
        "    count = 0\n",
        "    y_true = np.array(self.data.iloc[:self.batch_size, self.batch_size:]).reshape(1, 2)[0]\n",
        "    for x, y in zip(y_true, self.final_layer()):\n",
        "      error = (x - y)**2\n",
        "      errors.append(error)\n",
        "      count += 1\n",
        "    return sum(errors)/count \n"
      ],
      "metadata": {
        "id": "aR7DDUwiapd-"
      },
      "execution_count": 275,
      "outputs": []
    },
    {
      "cell_type": "code",
      "source": [
        "ann = ANN(data, batch_size)\n",
        "# ann.first_layer()\n",
        "# ann.second_layer()\n",
        "# ann.final_layer()\n",
        "print(\"The Mean Squared Error is\", ann.MSE())\n"
      ],
      "metadata": {
        "colab": {
          "base_uri": "https://localhost:8080/"
        },
        "id": "oWoPm0zUiiyP",
        "outputId": "f65f42ef-e7aa-4e6b-b9a9-4fc680dc1c58"
      },
      "execution_count": 276,
      "outputs": [
        {
          "output_type": "stream",
          "name": "stdout",
          "text": [
            "The Mean Squared Error is 0.3993754661113965\n"
          ]
        }
      ]
    },
    {
      "cell_type": "markdown",
      "source": [
        "# Calucating the question Step by Step"
      ],
      "metadata": {
        "id": "WSRSYKt1itUj"
      }
    },
    {
      "cell_type": "markdown",
      "source": [
        "#### Initializing the weights"
      ],
      "metadata": {
        "id": "6wG4R3RDbasb"
      }
    },
    {
      "cell_type": "code",
      "source": [
        "weight_1 = np.array([[0.3, 0.5, 0.9], [0.7, 0.8, 0.3]])\n",
        "weight_1"
      ],
      "metadata": {
        "colab": {
          "base_uri": "https://localhost:8080/"
        },
        "id": "icdLEOpbHNF_",
        "outputId": "ea7738a4-9aa3-4c34-96a7-eed2b7016e5b"
      },
      "execution_count": 277,
      "outputs": [
        {
          "output_type": "execute_result",
          "data": {
            "text/plain": [
              "array([[0.3, 0.5, 0.9],\n",
              "       [0.7, 0.8, 0.3]])"
            ]
          },
          "metadata": {},
          "execution_count": 277
        }
      ]
    },
    {
      "cell_type": "code",
      "source": [
        "weight_2 = np.array([[0.12, 0.13, 0.1, 0.3], [0.89, 0.1, 0.2, 0.6], [0.7, 0.6, 0.43, 0.26]])\n",
        "weight_2"
      ],
      "metadata": {
        "colab": {
          "base_uri": "https://localhost:8080/"
        },
        "id": "Yfwdm_lIHRl3",
        "outputId": "ec75b3e2-3b86-4af2-9326-d0d2da76e815"
      },
      "execution_count": 278,
      "outputs": [
        {
          "output_type": "execute_result",
          "data": {
            "text/plain": [
              "array([[0.12, 0.13, 0.1 , 0.3 ],\n",
              "       [0.89, 0.1 , 0.2 , 0.6 ],\n",
              "       [0.7 , 0.6 , 0.43, 0.26]])"
            ]
          },
          "metadata": {},
          "execution_count": 278
        }
      ]
    },
    {
      "cell_type": "code",
      "source": [
        "weight_3 = np.array([0.7, 0.1, 0.4, 0.9])\n",
        "weight_3"
      ],
      "metadata": {
        "colab": {
          "base_uri": "https://localhost:8080/"
        },
        "id": "iGKiDA5cITsN",
        "outputId": "b3edf408-469b-4044-c064-dbc8d9c28a96"
      },
      "execution_count": 279,
      "outputs": [
        {
          "output_type": "execute_result",
          "data": {
            "text/plain": [
              "array([0.7, 0.1, 0.4, 0.9])"
            ]
          },
          "metadata": {},
          "execution_count": 279
        }
      ]
    },
    {
      "cell_type": "markdown",
      "source": [
        "#First Layer"
      ],
      "metadata": {
        "id": "Tp4IEdUKJF8H"
      }
    },
    {
      "cell_type": "code",
      "source": [
        "first_layer = np.dot((data.iloc[:batch_size, :batch_size]).to_numpy(), weight_1)\n",
        "first_layer"
      ],
      "metadata": {
        "colab": {
          "base_uri": "https://localhost:8080/"
        },
        "id": "LBLBmU6LIrbN",
        "outputId": "1db9e517-b194-450d-a5c0-b2b0c9bf545d"
      },
      "execution_count": 280,
      "outputs": [
        {
          "output_type": "execute_result",
          "data": {
            "text/plain": [
              "array([[0.016, 0.1  , 0.408],\n",
              "       [0.734, 0.886, 0.546]])"
            ]
          },
          "metadata": {},
          "execution_count": 280
        }
      ]
    },
    {
      "cell_type": "code",
      "source": [
        "first_layer.shape"
      ],
      "metadata": {
        "colab": {
          "base_uri": "https://localhost:8080/"
        },
        "id": "WnItgMicJR12",
        "outputId": "aefe8e10-9fb9-42ea-8e17-8108c8dc08ea"
      },
      "execution_count": 281,
      "outputs": [
        {
          "output_type": "execute_result",
          "data": {
            "text/plain": [
              "(2, 3)"
            ]
          },
          "metadata": {},
          "execution_count": 281
        }
      ]
    },
    {
      "cell_type": "markdown",
      "source": [
        "#### activating using tanh \n",
        "tanh\n",
        "=\n",
        "e^\n",
        "x\n",
        "−\n",
        "e^\n",
        "−\n",
        "x/\n",
        "e^\n",
        "x\n",
        "+\n",
        "e^\n",
        "−\n",
        "x\n"
      ],
      "metadata": {
        "id": "stctsoOyNFvh"
      }
    },
    {
      "cell_type": "code",
      "source": [
        "def tanh(x):\n",
        "  return (math.exp(x) - math.exp(-x)) / (math.exp(x) + math.exp(-x))"
      ],
      "metadata": {
        "id": "H7kzDxV2OEP5"
      },
      "execution_count": 282,
      "outputs": []
    },
    {
      "cell_type": "code",
      "source": [
        "def activate(layer):\n",
        "  new_arr = []\n",
        "  for x in range(layer.shape[0]):\n",
        "    inside_arr = []\n",
        "    for y in layer[x]:\n",
        "      inside_arr.append(tanh(y))\n",
        "    new_arr.append(inside_arr)\n",
        "\n",
        "  return np.array(new_arr)"
      ],
      "metadata": {
        "id": "EW5nKh7qOhCV"
      },
      "execution_count": 283,
      "outputs": []
    },
    {
      "cell_type": "code",
      "source": [
        "# activating first layer\n",
        "first_layer = activate(first_layer)\n",
        "first_layer"
      ],
      "metadata": {
        "colab": {
          "base_uri": "https://localhost:8080/"
        },
        "id": "EZQrZFuSVUuG",
        "outputId": "0ca048b4-b398-4814-b871-2ce9e5876269"
      },
      "execution_count": 284,
      "outputs": [
        {
          "output_type": "execute_result",
          "data": {
            "text/plain": [
              "array([[0.01599863, 0.09966799, 0.38677318],\n",
              "       [0.62550641, 0.70941243, 0.4975163 ]])"
            ]
          },
          "metadata": {},
          "execution_count": 284
        }
      ]
    },
    {
      "cell_type": "markdown",
      "source": [
        "# Second Layer"
      ],
      "metadata": {
        "id": "oT0cPN4DWZh1"
      }
    },
    {
      "cell_type": "code",
      "source": [
        "weight_2"
      ],
      "metadata": {
        "colab": {
          "base_uri": "https://localhost:8080/"
        },
        "id": "yYJyU8oGVvUe",
        "outputId": "dae58e78-5402-4f4b-b3b0-21af99156332"
      },
      "execution_count": 285,
      "outputs": [
        {
          "output_type": "execute_result",
          "data": {
            "text/plain": [
              "array([[0.12, 0.13, 0.1 , 0.3 ],\n",
              "       [0.89, 0.1 , 0.2 , 0.6 ],\n",
              "       [0.7 , 0.6 , 0.43, 0.26]])"
            ]
          },
          "metadata": {},
          "execution_count": 285
        }
      ]
    },
    {
      "cell_type": "code",
      "source": [
        "second_layer = np.dot(first_layer, weight_2)\n",
        "second_layer"
      ],
      "metadata": {
        "colab": {
          "base_uri": "https://localhost:8080/"
        },
        "id": "H5QdQGr6Wgsh",
        "outputId": "4bf53eca-a916-4b16-e6fa-8f212fd6d6af"
      },
      "execution_count": 286,
      "outputs": [
        {
          "output_type": "execute_result",
          "data": {
            "text/plain": [
              "array([[0.36136558, 0.24411053, 0.18784593, 0.16516142],\n",
              "       [1.05469924, 0.45076685, 0.41836513, 0.74265362]])"
            ]
          },
          "metadata": {},
          "execution_count": 286
        }
      ]
    },
    {
      "cell_type": "code",
      "source": [
        "# activating the second layer\n",
        "second_layer = activate(second_layer)\n",
        "second_layer"
      ],
      "metadata": {
        "colab": {
          "base_uri": "https://localhost:8080/"
        },
        "id": "AKqhCWLHWsMx",
        "outputId": "99afd7ec-2053-4956-f0a4-a70c9ef6df59"
      },
      "execution_count": 287,
      "outputs": [
        {
          "output_type": "execute_result",
          "data": {
            "text/plain": [
              "array([[0.34641631, 0.23937454, 0.18566723, 0.16367585],\n",
              "       [0.78362662, 0.42252916, 0.39555225, 0.63074574]])"
            ]
          },
          "metadata": {},
          "execution_count": 287
        }
      ]
    },
    {
      "cell_type": "markdown",
      "source": [
        "# Final Layer"
      ],
      "metadata": {
        "id": "s_bilt_yW8Nl"
      }
    },
    {
      "cell_type": "code",
      "source": [
        "weight_3"
      ],
      "metadata": {
        "colab": {
          "base_uri": "https://localhost:8080/"
        },
        "id": "lpxYm8F4W128",
        "outputId": "ad21234c-2ff8-4455-f4b6-083f0586a988"
      },
      "execution_count": 288,
      "outputs": [
        {
          "output_type": "execute_result",
          "data": {
            "text/plain": [
              "array([0.7, 0.1, 0.4, 0.9])"
            ]
          },
          "metadata": {},
          "execution_count": 288
        }
      ]
    },
    {
      "cell_type": "code",
      "source": [
        "final_layer = np.dot(second_layer, weight_3)\n",
        "final_layer"
      ],
      "metadata": {
        "colab": {
          "base_uri": "https://localhost:8080/"
        },
        "id": "krQ318FcXI8l",
        "outputId": "b51a109c-607a-4916-f394-8fcb9eeb8a5b"
      },
      "execution_count": 289,
      "outputs": [
        {
          "output_type": "execute_result",
          "data": {
            "text/plain": [
              "array([0.48800402, 1.31668362])"
            ]
          },
          "metadata": {},
          "execution_count": 289
        }
      ]
    },
    {
      "cell_type": "markdown",
      "source": [
        "# Computing the error\n",
        "MSE formula = (1/n) * Σ(y_true – y_hat)^2"
      ],
      "metadata": {
        "id": "XRzbeCxjXYc7"
      }
    },
    {
      "cell_type": "code",
      "source": [
        "y_true = np.array(data.iloc[:batch_size, batch_size:]).reshape(1, 2)[0]\n",
        "y_true"
      ],
      "metadata": {
        "colab": {
          "base_uri": "https://localhost:8080/"
        },
        "id": "ttyOet7fXU13",
        "outputId": "e9b0624c-def3-42c6-dfd3-b971f7e6509a"
      },
      "execution_count": 290,
      "outputs": [
        {
          "output_type": "execute_result",
          "data": {
            "text/plain": [
              "array([0.6 , 0.43])"
            ]
          },
          "metadata": {},
          "execution_count": 290
        }
      ]
    },
    {
      "cell_type": "code",
      "source": [
        "y_hat = final_layer\n",
        "y_hat"
      ],
      "metadata": {
        "colab": {
          "base_uri": "https://localhost:8080/"
        },
        "id": "USwv3oUeXjYZ",
        "outputId": "2c720664-395d-43c2-d311-49c99070175e"
      },
      "execution_count": 291,
      "outputs": [
        {
          "output_type": "execute_result",
          "data": {
            "text/plain": [
              "array([0.48800402, 1.31668362])"
            ]
          },
          "metadata": {},
          "execution_count": 291
        }
      ]
    },
    {
      "cell_type": "code",
      "source": [
        "def MSE(y_true, y_hat):\n",
        "  errors = []\n",
        "  count = 0\n",
        "  for x, y in zip(y_true, y_hat):\n",
        "    error = (x - y)**2\n",
        "    errors.append(error)\n",
        "    count += 1\n",
        "  return sum(errors)/count"
      ],
      "metadata": {
        "id": "Z0CbQdeIZ7O8"
      },
      "execution_count": 292,
      "outputs": []
    },
    {
      "cell_type": "code",
      "source": [
        "# The Mean Squared Error\n",
        "print('The Mean Squared Error is', MSE(y_true, y_hat))"
      ],
      "metadata": {
        "colab": {
          "base_uri": "https://localhost:8080/"
        },
        "id": "9rLBI4ngandE",
        "outputId": "a6660e99-1e82-430c-8175-deff604a941a"
      },
      "execution_count": 293,
      "outputs": [
        {
          "output_type": "stream",
          "name": "stdout",
          "text": [
            "The Mean Squared Error is 0.3993754661113965\n"
          ]
        }
      ]
    },
    {
      "cell_type": "code",
      "source": [
        ""
      ],
      "metadata": {
        "id": "f-g6oi7rf3rQ"
      },
      "execution_count": 293,
      "outputs": []
    }
  ]
}